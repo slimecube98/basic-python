{
 "cells": [
  {
   "cell_type": "markdown",
   "id": "9a81179d10da8330",
   "metadata": {},
   "source": [
    "# Лабораторная №1"
   ]
  },
  {
   "cell_type": "markdown",
   "id": "13feb24fde5be69a",
   "metadata": {},
   "source": [
    "## Типы данных"
   ]
  },
  {
   "cell_type": "markdown",
   "id": "535f9e86de783809",
   "metadata": {},
   "source": [
    "Создайте программу, которая будет приветствовать пользователя:\n",
    "Сначала попросите пользователя ввести свое имя.\n",
    "Затем выведите приветственное сообщение, используя введенное имя."
   ]
  },
  {
   "cell_type": "markdown",
   "id": "6023d4389ce6cd8",
   "metadata": {},
   "source": [
    "#### Пример:\n",
    "Enter your name: Olya\\\n",
    "Hi, Olya! Welcome!\n"
   ]
  },
  {
   "cell_type": "code",
   "execution_count": 3,
   "id": "initial_id",
   "metadata": {
    "ExecuteTime": {
     "end_time": "2024-12-09T11:54:52.877187Z",
     "start_time": "2024-12-09T11:54:52.874622Z"
    },
    "collapsed": true
   },
   "outputs": [
    {
     "name": "stdout",
     "output_type": "stream",
     "text": [
      "Enter your name:\n",
      "Hi, Dima! Welcome!\n"
     ]
    }
   ],
   "source": [
    "# Напиши решение тут\n",
    "print('Enter your name:')\n",
    "name = input()\n",
    "print(f\"Hi, {name}! Welcome!\")"
   ]
  },
  {
   "cell_type": "markdown",
   "id": "c974779de734f3f5",
   "metadata": {},
   "source": [
    "\n",
    "1. Создайте переменную `user_name` и сохраните в нее имя пользователя (строка, минимум из двух символов).\n",
    "2. Создайте переменную `device_name` и сохраните в нее название устройства (строка, минимум из двух символов).\n",
    "3. Создайте переменную `device_age`, в которой будет храниться возраст устройства (неотрицательное число).\n",
    "4. Создайте переменную `is_under_warranty`, которая будет содержать значение `True`, если устройство на гарантии, или `False`, если нет."
   ]
  },
  {
   "cell_type": "code",
   "execution_count": 4,
   "id": "1706cc04f917c519",
   "metadata": {
    "ExecuteTime": {
     "end_time": "2024-12-08T09:01:43.897304Z",
     "start_time": "2024-12-08T09:01:43.893859Z"
    }
   },
   "outputs": [],
   "source": [
    "# Напиши решение тут\n",
    "user_name = \"Dima\"\n",
    "device_name = \"MacBook Air\"\n",
    "device_age = 4\n",
    "is_under_warranty = False"
   ]
  },
  {
   "cell_type": "markdown",
   "id": "9167b3f37213d5a8",
   "metadata": {},
   "source": [
    "Выведите на экран тип данных для определенных ранее переменных."
   ]
  },
  {
   "cell_type": "code",
   "execution_count": 1,
   "id": "a5fde07e6e8977cb",
   "metadata": {
    "ExecuteTime": {
     "end_time": "2024-12-08T09:01:50.986354Z",
     "start_time": "2024-12-08T09:01:50.983207Z"
    }
   },
   "outputs": [
    {
     "name": "stdout",
     "output_type": "stream",
     "text": [
      "<class 'str'>\n",
      "<class 'str'>\n",
      "<class 'int'>\n",
      "<class 'bool'>\n"
     ]
    }
   ],
   "source": [
    "# Напиши решение тут\n",
    "user_name = \"Dima\"\n",
    "device_name = \"MacBook Air\"\n",
    "device_age = 4\n",
    "is_under_warranty = False\n",
    "print(type(user_name))\n",
    "print(type(device_name))\n",
    "print(type(device_age))\n",
    "print(type(is_under_warranty))"
   ]
  },
  {
   "cell_type": "markdown",
   "id": "4beb2fbddf03bbda",
   "metadata": {},
   "source": [
    "1. Преобразуйте строку имени в нижний регистр и сохраните результат в новой переменной.\n",
    "2. Создайте строку по шаблону `\"user_name__object_name\"`.\n",
    "3. Выведите длину получившейся строки."
   ]
  },
  {
   "cell_type": "code",
   "execution_count": 3,
   "id": "573c572586967639",
   "metadata": {
    "ExecuteTime": {
     "end_time": "2024-12-08T09:05:20.954730Z",
     "start_time": "2024-12-08T09:05:20.951642Z"
    }
   },
   "outputs": [
    {
     "name": "stdout",
     "output_type": "stream",
     "text": [
      "17\n"
     ]
    }
   ],
   "source": [
    "# Напиши решение тут\n",
    "name = \"Dima\"\n",
    "lower_name = name.lower()\n",
    "pattern_str = f\"{lower_name}__object_name\"\n",
    "print(len(pattern_str))"
   ]
  },
  {
   "cell_type": "markdown",
   "id": "5d547bfdd571f872",
   "metadata": {},
   "source": [
    "Используя навыки форматирования строк в Python, выведите на экран следующую фразу, подставив значения переменных:\n",
    "\"{user_name} недавно приобрел {object_name}, которому всего {object_age} лет.\""
   ]
  },
  {
   "cell_type": "code",
   "execution_count": 5,
   "id": "93d009ebee158763",
   "metadata": {
    "ExecuteTime": {
     "end_time": "2024-12-08T09:36:31.294315Z",
     "start_time": "2024-12-08T09:36:31.291576Z"
    }
   },
   "outputs": [
    {
     "name": "stdout",
     "output_type": "stream",
     "text": [
      "Дима недавно приобрел яблоко, которому всего 4 лет.\n"
     ]
    }
   ],
   "source": [
    "# Напиши решение тут\n",
    "user_name = \"Дима\"\n",
    "object_name = \"яблоко\"\n",
    "object_age = 4\n",
    "\n",
    "print(f\"{user_name} недавно приобрел {object_name}, которому всего {object_age} лет.\")"
   ]
  },
  {
   "cell_type": "markdown",
   "id": "b182d7062fd2ec90",
   "metadata": {},
   "source": [
    "Нам интересно узнать, является ли имя объекта палиндромом. Проверьте это, используя срезы."
   ]
  },
  {
   "cell_type": "code",
   "execution_count": null,
   "id": "8de8e4c76fac1e71",
   "metadata": {
    "ExecuteTime": {
     "end_time": "2024-12-08T22:18:14.739713Z",
     "start_time": "2024-12-08T22:18:14.735804Z"
    }
   },
   "outputs": [
    {
     "name": "stdout",
     "output_type": "stream",
     "text": [
      "Объект тет это полиндром\n"
     ]
    }
   ],
   "source": [
    "# Напиши решение тут\n",
    "object_name = \"тет\"\n",
    "\n",
    "if object_name == object_name[::-1]:\n",
    "    print(f\"Объект '{object_name}' это полиндром\")\n",
    "else:\n",
    "    print(f\"Имя '{object_name}' это не полиндром\")\n"
   ]
  },
  {
   "cell_type": "markdown",
   "id": "b0158dd42eeebfed",
   "metadata": {},
   "source": [
    "В переменной `our_text` сохранено некоторое предложение, в котором могут быть добавлены лишние пробелы. Напишите программу, которая будет убирать из `our_text` лишние пробелы и сохранять результат в переменную `result`.\n",
    "Все слова должны быть разделены одним пробелом, а в начале и конце предложения пробелов быть не должно."
   ]
  },
  {
   "cell_type": "code",
   "execution_count": 6,
   "id": "3cd4f31f635bca0",
   "metadata": {
    "ExecuteTime": {
     "end_time": "2024-12-08T10:05:12.367240Z",
     "start_time": "2024-12-08T10:05:12.363874Z"
    }
   },
   "outputs": [],
   "source": [
    "our_text = \"We     are located  on Pushkin      Street.   \"\n",
    "result = \"We are located on Pushkin Street.\""
   ]
  },
  {
   "cell_type": "code",
   "execution_count": null,
   "id": "36705cf2b1431541",
   "metadata": {
    "ExecuteTime": {
     "end_time": "2024-12-08T22:29:49.603518Z",
     "start_time": "2024-12-08T22:29:49.600307Z"
    }
   },
   "outputs": [
    {
     "name": "stdout",
     "output_type": "stream",
     "text": [
      "We are located on Pushkin Street.\n"
     ]
    }
   ],
   "source": [
    "# Напиши решение тут\n",
    "our_text = \"We     are located  on Pushkin      Street.   \"\n",
    "result = \" \".join(our_text.split())"
   ]
  },
  {
   "cell_type": "markdown",
   "id": "df621069ed13e48",
   "metadata": {},
   "source": [
    "Мы хотим улучшить процесс шифрования и хранения информации о платежах, чтобы обеспечить конфиденциальность и защиту данных.\\\n",
    "Напишите программу, которая будет принимать номер кредитной карты `card` и возвращать номер карты, в котором будут видны только последние 4 цифры. Остальные цифры должны заменяться звездочками.\\\n",
    "Результат сохраните в `result`."
   ]
  },
  {
   "cell_type": "code",
   "execution_count": 11,
   "id": "5cee3863129cccf0",
   "metadata": {
    "ExecuteTime": {
     "end_time": "2024-12-08T10:06:51.486317Z",
     "start_time": "2024-12-08T10:06:51.483740Z"
    }
   },
   "outputs": [],
   "source": [
    "card = '5468350018455833'\n",
    "result = '************5833'"
   ]
  },
  {
   "cell_type": "code",
   "execution_count": null,
   "id": "a16eca170ac4f54b",
   "metadata": {
    "ExecuteTime": {
     "end_time": "2024-12-16T13:11:20.636562Z",
     "start_time": "2024-12-16T13:11:20.615021Z"
    }
   },
   "outputs": [
    {
     "name": "stdout",
     "output_type": "stream",
     "text": [
      "Введите номер карты:\n",
      "******5655\n"
     ]
    }
   ],
   "source": [
    "# Напиши решение тут\n",
    "print(\"Введите номер карты:\")\n",
    "card = input()\n",
    "result = '*' * (len(card) - 4) + card[-4:]"
   ]
  },
  {
   "cell_type": "markdown",
   "id": "800123d387461d89",
   "metadata": {},
   "source": [
    "В переменной `my_list` сохранен не пустой список, в котором есть число 10.\n",
    "\n",
    "Найдите первый индекс числа 10 в `my_list`, сохраните индекс в переменную `ten_index`.\n",
    "\n",
    "В переменную `nine_count` сохраните, сколько раз в списке `my_list` встречается число 9."
   ]
  },
  {
   "cell_type": "code",
   "execution_count": 6,
   "id": "c648910d57bbaea4",
   "metadata": {
    "ExecuteTime": {
     "end_time": "2024-12-09T21:57:31.750794Z",
     "start_time": "2024-12-09T21:57:31.738571Z"
    }
   },
   "outputs": [],
   "source": [
    "my_list = [1, 9, 0, 9, 10]\n",
    "ten_index = 4\n",
    "nine_count = 2\n",
    "\n",
    "\n",
    "my_list = [11, 2, 0, 6]\n",
    "ten_index = 0\n",
    "nine_count = 0"
   ]
  },
  {
   "cell_type": "code",
   "execution_count": null,
   "id": "a7ffd1e1c7452fe2",
   "metadata": {
    "ExecuteTime": {
     "end_time": "2024-12-08T23:07:55.934563Z",
     "start_time": "2024-12-08T23:07:55.932024Z"
    }
   },
   "outputs": [],
   "source": [
    "# Напиши решение тут\n",
    "my_list = [1, 9, 0, 9, 10]\n",
    "ten_index = my_list.index(10)\n",
    "nine_count = my_list.count(9)"
   ]
  },
  {
   "cell_type": "markdown",
   "id": "1b82470f1fe0d82e",
   "metadata": {},
   "source": [
    "1. В списке `names` содержатся различные имена. Добавьте в этот список два новых имени: `'Ann'` и `'Bob'`.\n",
    "2. В списке `dates` содержится список из десяти чисел, представляющих дни месяца. Удалите из этого списка второй, седьмой и последний день. Учтите, что индексы элементов смещаются после каждой операции удаления.\n",
    "3. В списке `items` содержатся названия различных элементов. Отсортируйте этот список в алфавитном порядке."
   ]
  },
  {
   "cell_type": "code",
   "execution_count": 6,
   "id": "9ebac36854610ddb",
   "metadata": {
    "ExecuteTime": {
     "end_time": "2024-12-08T23:10:46.481634Z",
     "start_time": "2024-12-08T23:10:46.477465Z"
    }
   },
   "outputs": [],
   "source": [
    "names = ['Peter', 'Maria', 'Alexander', 'Olga']\n",
    "dates = [1, 3, 5, 7, 9, 10, 12, 14, 16, 18]\n",
    "items = ['Lamp', 'Table', 'Book', 'Pen', 'Notebook']\n"
   ]
  },
  {
   "cell_type": "code",
   "execution_count": null,
   "id": "d0bc008d95ee498b",
   "metadata": {
    "ExecuteTime": {
     "end_time": "2024-12-08T23:10:52.145141Z",
     "start_time": "2024-12-08T23:10:52.142787Z"
    }
   },
   "outputs": [
    {
     "name": "stdout",
     "output_type": "stream",
     "text": [
      "['Book', 'Lamp', 'Notebook', 'Pen', 'Table']\n"
     ]
    }
   ],
   "source": [
    "# Напиши решение тут\n",
    "names = ['Peter', 'Maria', 'Alexander', 'Olga']\n",
    "names = names.extend(['Ann', 'Bob'])\n",
    "\n",
    "dates = [1, 3, 5, 7, 9, 10, 12, 14, 16, 18]\n",
    "dates.pop()\n",
    "dates.pop(6)\n",
    "dates.pop(1)\n",
    "\n",
    "items = ['Lamp', 'Table', 'Book', 'Pen', 'Notebook']\n",
    "items.sort()"
   ]
  },
  {
   "cell_type": "markdown",
   "id": "f6d415e4a4c9cbe5",
   "metadata": {},
   "source": [
    "В переменной `catalog` хранится множество всех товаров интернет-магазина, а в переменной `out_of_stock` — множество товаров, которые отсутствуют на складе. Сохраните в переменную `available_items` товары, которые доступны для заказа."
   ]
  },
  {
   "cell_type": "code",
   "execution_count": 8,
   "id": "e04c3bd33acd20f3",
   "metadata": {
    "ExecuteTime": {
     "end_time": "2024-12-08T23:14:11.276325Z",
     "start_time": "2024-12-08T23:14:11.272652Z"
    }
   },
   "outputs": [],
   "source": [
    "catalog = {\"Laptop\", \"Smartphone\", \"Headphones\", \"Camera\", \"Tablet\"}\n",
    "out_of_stock = {\"Camera\", \"Tablet\"}\n",
    "\n",
    "result =  {'Laptop', 'Smartphone', 'Headphones'}"
   ]
  },
  {
   "cell_type": "code",
   "execution_count": null,
   "id": "33800330d03fefcc",
   "metadata": {
    "ExecuteTime": {
     "end_time": "2024-12-08T23:14:23.684952Z",
     "start_time": "2024-12-08T23:14:23.681998Z"
    }
   },
   "outputs": [],
   "source": [
    "# Напиши решение тут\n",
    "catalog = {\"Laptop\", \"Smartphone\", \"Headphones\", \"Camera\", \"Tablet\"}\n",
    "out_of_stock = {\"Camera\", \"Tablet\"}\n",
    "\n",
    "available_items = catalog - out_of_stock"
   ]
  },
  {
   "cell_type": "markdown",
   "id": "18962158aa651348",
   "metadata": {},
   "source": [
    "В переменной `my_set` множество (set) из чисел. В переменной `to_delete` число, которое нужно удалить из `my_set`, если оно там есть. Если такого числа нет в `my_set` ничего делать не надо."
   ]
  },
  {
   "cell_type": "code",
   "execution_count": 7,
   "id": "22eaeb7537406de7",
   "metadata": {
    "ExecuteTime": {
     "end_time": "2024-12-09T22:02:23.516522Z",
     "start_time": "2024-12-09T22:02:23.508582Z"
    }
   },
   "outputs": [],
   "source": [
    "my_set = {0, 10, 100}\n",
    "to_delete = 0\n",
    "#====>\n",
    "my_set = {10, 100} # удалили 0\n",
    "\n",
    "my_set = {0, 10, 100}\n",
    "to_delete = -2\n",
    "#====>\n",
    "my_set = {0, 10, 100} # ничего не сделали\n"
   ]
  },
  {
   "cell_type": "code",
   "execution_count": 15,
   "id": "f19b68423faa54c",
   "metadata": {},
   "outputs": [],
   "source": [
    "# Напиши решение тут\n",
    "my_set = {0, 10, 100}\n",
    "to_delete = 0\n",
    "\n",
    "my_set.discard(to_delete)"
   ]
  },
  {
   "cell_type": "markdown",
   "id": "33beb1a562823b0c",
   "metadata": {},
   "source": [
    "Вы работаете с данными, организованными в виде кортежей. Давайте обработаем эти данные:\n",
    "У вас есть кортеж `product_info`, содержащий информацию о товаре.\n",
    "Используя методы и операции работы с кортежами:\n",
    "- Проверьте, содержится ли в кортеже название товара, равное `'Laptop'`.\n",
    "- Разделите кортеж на две части: информацию о продавце (первые два элемента) и информацию о товаре (оставшиеся элементы)."
   ]
  },
  {
   "cell_type": "code",
   "execution_count": 1,
   "id": "e03e3edbb0428c6b",
   "metadata": {
    "ExecuteTime": {
     "end_time": "2024-12-09T11:45:48.104653Z",
     "start_time": "2024-12-09T11:45:48.100620Z"
    }
   },
   "outputs": [],
   "source": [
    "product_info = (\"John Doe\", \"Electronics Store\", \"Laptop\", \"15-inch\", \"Intel i7\", \"16GB RAM\")\n"
   ]
  },
  {
   "cell_type": "code",
   "execution_count": null,
   "id": "251da2042c765254",
   "metadata": {
    "ExecuteTime": {
     "end_time": "2024-12-09T11:45:48.118863Z",
     "start_time": "2024-12-09T11:45:48.115954Z"
    }
   },
   "outputs": [
    {
     "name": "stdout",
     "output_type": "stream",
     "text": [
      "('Laptop', '15-inch', 'Intel i7', '16GB RAM')\n"
     ]
    }
   ],
   "source": [
    "# Напиши решение тут\n",
    "product_info = (\"John Doe\", \"Electronics Store\", \"Laptop\", \"15-inch\", \"Intel i7\", \"16GB RAM\")\n",
    "\n",
    "contains_laptop = \"Laptop\" in product_info\n",
    "merchant_info = product_info[0:2]\n",
    "product_info = product_info[2:]"
   ]
  },
  {
   "cell_type": "markdown",
   "id": "9c44b7136aa33652",
   "metadata": {},
   "source": [
    "В словаре `customer` хранятся имя клиента и список его расходов в интернет-магазине (например, за электронику, одежду и аксессуары). Создайте новый словарь `summary`, в котором будет имя клиента и самая высокая сумма из списка расходов."
   ]
  },
  {
   "cell_type": "code",
   "execution_count": 8,
   "id": "84e9c57e8b6fc471",
   "metadata": {
    "ExecuteTime": {
     "end_time": "2024-12-09T22:06:08.837466Z",
     "start_time": "2024-12-09T22:06:08.832194Z"
    }
   },
   "outputs": [],
   "source": [
    "customer = {\n",
    "    \"owner_name\": \"Maria\",\n",
    "    \"expenses\": [120, 200, 150, 300, 250]\n",
    "}"
   ]
  },
  {
   "cell_type": "code",
   "execution_count": null,
   "id": "2fc79f115442b3fd",
   "metadata": {
    "ExecuteTime": {
     "end_time": "2024-12-09T11:51:26.990501Z",
     "start_time": "2024-12-09T11:51:26.988083Z"
    }
   },
   "outputs": [
    {
     "name": "stdout",
     "output_type": "stream",
     "text": [
      "{'owner_name': 'Maria', 'expenses': 300}\n"
     ]
    }
   ],
   "source": [
    "# Напиши решение тут\n",
    "customer = {\n",
    "    \"owner_name\": \"Maria\",\n",
    "    \"expenses\": [120, 200, 150, 300, 250]\n",
    "}\n",
    "\n",
    "summary = dict.fromkeys([customer.get(\"owner_name\")], max(customer.get(\"expenses\")))"
   ]
  }
 ],
 "metadata": {
  "kernelspec": {
   "display_name": ".venv",
   "language": "python",
   "name": "python3"
  },
  "language_info": {
   "codemirror_mode": {
    "name": "ipython",
    "version": 3
   },
   "file_extension": ".py",
   "mimetype": "text/x-python",
   "name": "python",
   "nbconvert_exporter": "python",
   "pygments_lexer": "ipython3",
   "version": "3.13.3"
  }
 },
 "nbformat": 4,
 "nbformat_minor": 5
}

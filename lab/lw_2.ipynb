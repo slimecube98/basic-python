{
 "cells": [
  {
   "cell_type": "markdown",
   "id": "9e9f885ad1cd3def",
   "metadata": {},
   "source": [
    "# Лабораторная №2"
   ]
  },
  {
   "cell_type": "markdown",
   "id": "425707c53189a3f4",
   "metadata": {},
   "source": [
    "## Условия, циклы, функции"
   ]
  },
  {
   "cell_type": "markdown",
   "id": "2a4a09414a32a3d5",
   "metadata": {},
   "source": [
    "\n",
    "Нам дали задачу проверить, является ли участок земли квадратным. В переменных `length` и `width` заданы значения длины и ширины участка. Необходимо проверить, является ли он квадратным. Сохраните в переменную `result` значение `True`, если участок квадратный, и `False` — если нет."
   ]
  },
  {
   "cell_type": "code",
   "execution_count": 5,
   "id": "initial_id",
   "metadata": {
    "ExecuteTime": {
     "end_time": "2024-12-09T11:59:00.117606Z",
     "start_time": "2024-12-09T11:59:00.114166Z"
    },
    "collapsed": true
   },
   "outputs": [],
   "source": [
    "length = 121\n",
    "width = 100\n",
    "result = False\n",
    "\n",
    "#Пример 2\n",
    "length = 10\n",
    "width = 10\n",
    "result = True"
   ]
  },
  {
   "cell_type": "code",
   "execution_count": 6,
   "id": "2a8406f5868bba93",
   "metadata": {
    "ExecuteTime": {
     "end_time": "2024-12-09T11:59:13.036578Z",
     "start_time": "2024-12-09T11:59:13.033939Z"
    }
   },
   "outputs": [],
   "source": [
    "# Напиши решение тут\n",
    "result = length == width"
   ]
  },
  {
   "cell_type": "markdown",
   "id": "83b5067e4a0fa617",
   "metadata": {},
   "source": [
    "Условия выплаты премий сотрудникам зависят от их стажа работы и определяются следующим образом:\n",
    "\n",
    "- Если стаж работы сотрудника **меньше 3 лет**, премия отсутствует (равна 0).\n",
    "- Если стаж работы сотрудника **от 3 до 6 лет (включительно)**, премия составляет **2 оклада**.\n",
    "- Если стаж работы сотрудника **от 7 до 15 лет (включительно)**, премия составляет **5 окладов**.\n",
    "- Если стаж работы сотрудника **больше 15 лет**, премия составляет **10 окладов**.\n",
    "\n",
    "Значение заработной платы сотрудника хранится в переменной `salary`, стаж работы — в переменной `work_experience`. Требуется вычислить размер премии и сохранить результат в переменной `result`."
   ]
  },
  {
   "cell_type": "code",
   "execution_count": 7,
   "id": "4947ebf0ab3ebbd8",
   "metadata": {
    "ExecuteTime": {
     "end_time": "2024-12-09T12:03:56.260649Z",
     "start_time": "2024-12-09T12:03:56.257743Z"
    }
   },
   "outputs": [],
   "source": [
    "# Пример 1\n",
    "salary = 150000\n",
    "work_experience = 3\n",
    "result = 300000\n",
    "\n",
    "# Пример 2\n",
    "salary = 100000\n",
    "work_experience = 1\n",
    "result = 0\n",
    "\n",
    "# Пример 3\n",
    "salary = 200000\n",
    "work_experience = 16\n",
    "result = 2000000"
   ]
  },
  {
   "cell_type": "code",
   "execution_count": 8,
   "id": "1189f927e3a63e2c",
   "metadata": {
    "ExecuteTime": {
     "end_time": "2024-12-09T12:03:56.915203Z",
     "start_time": "2024-12-09T12:03:56.912679Z"
    }
   },
   "outputs": [],
   "source": [
    "# Напиши решение тут\n",
    "work_experience = 5\n",
    "salary = 100000\n",
    "\n",
    "multiplier = 0\n",
    "if work_experience >= 3 and work_experience <= 6:\n",
    "    multiplier = 2\n",
    "elif work_experience >= 7 and work_experience <= 15:\n",
    "    multiplier = 5\n",
    "elif work_experience > 15:\n",
    "    multiplier = 10\n",
    "\n",
    "result = salary * multiplier"
   ]
  },
  {
   "cell_type": "markdown",
   "id": "1a47c0bb8604d85e",
   "metadata": {},
   "source": [
    "Есть словарь `sales`, содержащий информацию о продуктах и их ценах в магазине. В список `affordable_products` нужно сохранить названия всех продуктов, которые стоят меньше или равны 500."
   ]
  },
  {
   "cell_type": "code",
   "execution_count": 8,
   "id": "d4fee48cb2dabcf5",
   "metadata": {
    "ExecuteTime": {
     "end_time": "2024-12-09T12:07:09.133555Z",
     "start_time": "2024-12-09T12:07:09.130844Z"
    }
   },
   "outputs": [],
   "source": [
    "sales = {\n",
    "    \"laptop\": 700,\n",
    "    \"smartphone\": 100,\n",
    "    \"headphones\": 50,\n",
    "    \"mouse\": 20,\n",
    "    \"keyboard\": 40\n",
    "}\n",
    "# Output: ['laptop', 700]"
   ]
  },
  {
   "cell_type": "code",
   "execution_count": null,
   "id": "5bb1f8d2b45d553a",
   "metadata": {
    "ExecuteTime": {
     "end_time": "2024-12-09T12:06:09.715210Z",
     "start_time": "2024-12-09T12:06:09.712067Z"
    }
   },
   "outputs": [
    {
     "name": "stdout",
     "output_type": "stream",
     "text": [
      "['smartphone', 'headphones', 'mouse', 'keyboard']\n"
     ]
    }
   ],
   "source": [
    "# Напиши решение тут\n",
    "sales = {\n",
    "    \"laptop\": 700,\n",
    "    \"smartphone\": 100,\n",
    "    \"headphones\": 50,\n",
    "    \"mouse\": 20,\n",
    "    \"keyboard\": 40\n",
    "}\n",
    "\n",
    "affordable_products = []\n",
    "for product, price in sales.items():\n",
    "    if price <= 500:\n",
    "        affordable_products.append(product)"
   ]
  },
  {
   "cell_type": "markdown",
   "id": "68ac8bcb0e04fdc5",
   "metadata": {},
   "source": [
    "Напишите программу, принимающую в виде аргументов два списка `lst_1` и `lst_2` и определяющую, являются ли они противоположными друг другу. Результат проверки сохраните в result в формате True или False.\n",
    "\n",
    "Каждая пара списков будет состоять из одинаковых элементов (типа a и b). Список считается анти-списком, если все элементы в нем противоположны соответствующим элементам в первом списке.\n"
   ]
  },
  {
   "cell_type": "code",
   "execution_count": 9,
   "id": "c247de3ee5a9e60a",
   "metadata": {
    "ExecuteTime": {
     "end_time": "2024-12-09T12:10:09.592660Z",
     "start_time": "2024-12-09T12:10:09.589368Z"
    }
   },
   "outputs": [],
   "source": [
    "lst_1 = [\"1\", \"0\", \"0\", \"1\"]\n",
    "lst_2 = [\"0\", \"1\", \"1\", \"0\"]\n",
    "result = True\n",
    "\n",
    "lst_1 = [3, 4]\n",
    "lst_2 = [4, 3]\n",
    "result = True\n",
    "\n",
    "lst_1 = [1, 1]\n",
    "lst_2 = [2, 2]\n",
    "result = False\n"
   ]
  },
  {
   "cell_type": "code",
   "execution_count": null,
   "id": "c1b907387b93a29a",
   "metadata": {},
   "outputs": [
    {
     "name": "stdout",
     "output_type": "stream",
     "text": [
      "False\n"
     ]
    }
   ],
   "source": [
    "# Напиши решение тут\n",
    "lst_1 = [1, 1]\n",
    "lst_2 = [2, 2]\n",
    "def is_opposite(lst_1, lst_2):\n",
    "    uniq_values = list(dict.fromkeys(lst_1))\n",
    "    if len(uniq_values) != 2: return False\n",
    "\n",
    "    for i in range(len(lst_1)):\n",
    "        if lst_1[i] == a and lst_2[i] != b: return False\n",
    "        elif lst_1[i] == b and lst_2[i] != a: return False\n",
    "\n",
    "    return True\n",
    "\n",
    "result = is_opposite(lst_1, lst_2)"
   ]
  },
  {
   "cell_type": "markdown",
   "id": "e6c61ed00e1f78e7",
   "metadata": {},
   "source": [
    "Задана переменная `m` — список из списков одинаковой длины. Проверьте, что суммы элементов на диагоналях равны.\n",
    "\n",
    "Результат проверки сохраните в `result` в формате True или False."
   ]
  },
  {
   "cell_type": "code",
   "execution_count": 13,
   "id": "52f6aa07b6b69e8",
   "metadata": {
    "ExecuteTime": {
     "end_time": "2024-12-09T22:13:25.877832Z",
     "start_time": "2024-12-09T22:13:25.865474Z"
    }
   },
   "outputs": [],
   "source": [
    "# Пример 1\n",
    "m = [[1, 23, 4],\n",
    "     [3, 2, 1],\n",
    "     [6, 3, 4]]\n",
    "result = False\n",
    "\n",
    "# Пример 2\n",
    "m = [[1, 23, 4],\n",
    "     [3, 2, 1],\n",
    "     [1, 3, 4]]\n",
    "result = True\n",
    "\n"
   ]
  },
  {
   "cell_type": "code",
   "execution_count": 22,
   "id": "e305f64695a0519c",
   "metadata": {
    "ExecuteTime": {
     "end_time": "2024-12-09T22:13:30.410637Z",
     "start_time": "2024-12-09T22:13:30.407043Z"
    }
   },
   "outputs": [
    {
     "name": "stdout",
     "output_type": "stream",
     "text": [
      "False\n"
     ]
    }
   ],
   "source": [
    "# Напиши решение тут\n",
    "m = [[1, 23, 4],\n",
    "     [3, 2, 1],\n",
    "     [6, 3, 4]]\n",
    "\n",
    "\n",
    "size = len(m)\n",
    "main_diagonal = 0\n",
    "sec_diagonal = 0\n",
    "for i in range(size):\n",
    "    main_diagonal += m[i][i]\n",
    "    sec_diagonal += m[i][size - i - 1]\n",
    "\n",
    "result = main_diagonal == sec_diagonal\n",
    "print(result)\n"
   ]
  },
  {
   "cell_type": "markdown",
   "id": "32734e2d177c9fa",
   "metadata": {},
   "source": [
    "Дан список кортежей `input_list`. Отсортируйте `input_list` по 2 элементу кортежа в порядке убывания. Отфильтруйте список так, чтобы остались только те элементы, второе значение в кортеже у которых кратно 5.\n",
    "\n",
    "Результат сохраните в `result`.\n",
    "\n",
    "Для решения задачи используйте lambda-функцию."
   ]
  },
  {
   "cell_type": "code",
   "execution_count": 15,
   "id": "54ca7285b6d4f539",
   "metadata": {
    "ExecuteTime": {
     "end_time": "2024-12-09T22:14:35.143038Z",
     "start_time": "2024-12-09T22:14:35.135629Z"
    }
   },
   "outputs": [],
   "source": [
    "input_list = [('Anna', 13), ('Ivan', 20), ('Irina', 23), ('Olga', 25),\n",
    "              ('Ivan', 30), ('Oleg', 24), ('Olga', 26)]\n",
    "result = [('Ivan', 30), ('Olga', 25), ('Ivan', 20)]"
   ]
  },
  {
   "cell_type": "code",
   "execution_count": null,
   "id": "9c9b829170cb8f2a",
   "metadata": {},
   "outputs": [
    {
     "name": "stdout",
     "output_type": "stream",
     "text": [
      "[('Ivan', 30), ('Olga', 25), ('Ivan', 20)]\n"
     ]
    }
   ],
   "source": [
    "# Напиши решение тут\n",
    "input_list = [('Anna', 13), ('Ivan', 20), ('Irina', 23), ('Olga', 25), ('Ivan', 30), ('Oleg', 24), ('Olga', 26)]\n",
    "input_list.sort(key=lambda val: val[1], reverse=True)\n",
    "result = list(filter(lambda val: val[1] % 5 == 0, input_list))"
   ]
  },
  {
   "cell_type": "markdown",
   "id": "d7f53fd342d1cd0f",
   "metadata": {},
   "source": [
    "Гипотеза Коллатца: какое бы начальное натуральное число n мы ни взяли, рано или поздно мы получим единицу, если выполняем следующие преобразования:\n",
    "\n",
    "- Если n чётное, то делим его на 2;\n",
    "- Если n нечётное, то умножаем на 3 и прибавляем 1 (получаем 3n + 1).\n",
    "Напишите функцию `def collatz_conjecture()`, которая будет принимать натуральное число n и возвращать последовательность чисел, полученных указанными выше преобразованиями."
   ]
  },
  {
   "cell_type": "code",
   "execution_count": 16,
   "id": "a11c1692c9761fa4",
   "metadata": {
    "ExecuteTime": {
     "end_time": "2024-12-09T22:15:55.028720Z",
     "start_time": "2024-12-09T22:15:55.023155Z"
    }
   },
   "outputs": [],
   "source": [
    "def collatz_conjecture(n):\n",
    "    ...\n",
    "\n",
    "collatz_conjecture(8) # -> [8, 4, 2, 1]\n",
    "collatz_conjecture(3) # -> [3, 10, 5, 16, 8, 4, 2, 1]\n"
   ]
  },
  {
   "cell_type": "code",
   "execution_count": null,
   "id": "5b5cc07ed41f2515",
   "metadata": {
    "ExecuteTime": {
     "end_time": "2024-12-09T12:17:45.752499Z",
     "start_time": "2024-12-09T12:17:45.750033Z"
    }
   },
   "outputs": [
    {
     "name": "stdout",
     "output_type": "stream",
     "text": [
      "[3, 10, 5, 16, 8, 4, 2, 1]\n"
     ]
    }
   ],
   "source": [
    "# Напиши решение тут\n",
    "\n",
    "def collatz_conjecture(n, queue=[]):\n",
    "    queue.append(int(n))\n",
    "    if n == 1:\n",
    "        return queue\n",
    "    elif n % 2 == 0:\n",
    "        return collatz_conjecture(n / 2, queue)\n",
    "    else:\n",
    "        return collatz_conjecture((3 * n) + 1, queue)"
   ]
  }
 ],
 "metadata": {
  "kernelspec": {
   "display_name": "Python 3",
   "language": "python",
   "name": "python3"
  },
  "language_info": {
   "codemirror_mode": {
    "name": "ipython",
    "version": 3
   },
   "file_extension": ".py",
   "mimetype": "text/x-python",
   "name": "python",
   "nbconvert_exporter": "python",
   "pygments_lexer": "ipython3",
   "version": "3.11.9"
  }
 },
 "nbformat": 4,
 "nbformat_minor": 5
}

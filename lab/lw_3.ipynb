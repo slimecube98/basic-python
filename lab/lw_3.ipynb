{
 "cells": [
  {
   "cell_type": "markdown",
   "id": "e9c397d9723b81f9",
   "metadata": {},
   "source": [
    "# Лабораторная №3"
   ]
  },
  {
   "cell_type": "markdown",
   "id": "e9126e1929543902",
   "metadata": {},
   "source": [
    "## Регулярные выражения"
   ]
  },
  {
   "cell_type": "markdown",
   "id": "5c13064c49a1b748",
   "metadata": {},
   "source": [
    "В нашем магазине все товарные коды всегда имеют формат \"B123\", где \"B\" — это буква, а \"123\" — цифры. Напишите программу, которая проверяет, соответствует ли товарный код этому формату."
   ]
  },
  {
   "cell_type": "code",
   "execution_count": 4,
   "id": "5be394ea56bf93bc",
   "metadata": {},
   "outputs": [],
   "source": [
    "import re"
   ]
  },
  {
   "cell_type": "code",
   "execution_count": 5,
   "id": "initial_id",
   "metadata": {
    "ExecuteTime": {
     "end_time": "2024-12-09T12:27:44.569398Z",
     "start_time": "2024-12-09T12:27:44.567658Z"
    },
    "collapsed": true
   },
   "outputs": [
    {
     "name": "stdout",
     "output_type": "stream",
     "text": [
      "True\n"
     ]
    }
   ],
   "source": [
    "def check_product_code(code):\n",
    "    return re.match(r'^B\\d{3}$', code) != None\n",
    "    pass\n",
    "\n",
    "\n",
    "product_code  = \"B152\"\n",
    "result = check_product_code(product_code )\n",
    "print(result)\n"
   ]
  },
  {
   "cell_type": "markdown",
   "id": "4bc60da9bced479c",
   "metadata": {},
   "source": [
    "Нам часто поступает список книг в виде строки, где данные о каждой книге разделены пробелами или запятыми. Напишите программу, которая будет извлекать информацию о каждой книге (название, автор, год издания) и выводить их по категориям."
   ]
  },
  {
   "cell_type": "code",
   "execution_count": 9,
   "id": "b4dd5b399b1fb610",
   "metadata": {
    "ExecuteTime": {
     "end_time": "2024-12-09T12:43:35.644847Z",
     "start_time": "2024-12-09T12:43:35.640972Z"
    }
   },
   "outputs": [
    {
     "name": "stdout",
     "output_type": "stream",
     "text": [
      "Titles: ['The Great Gatsby', '1984', 'To Kill a Mockingbird']\n",
      "Authors: ['F. Scott Fitzgerald', 'George Orwell', 'Harper Lee']\n",
      "Years: ['1925', '1949', '1960']\n"
     ]
    }
   ],
   "source": [
    "def extract_book_info(data):\n",
    "    items = re.split(',', data)\n",
    "\n",
    "    titles = items[0::3]\n",
    "    authors = items[1::3]\n",
    "    years = items[2::3]\n",
    "    return titles, authors, years\n",
    "    pass\n",
    "\n",
    "\n",
    "data = \"The Great Gatsby,F. Scott Fitzgerald,1925,1984,George Orwell,1949,To Kill a Mockingbird,Harper Lee,1960\"\n",
    "titles, authors, years = extract_book_info(data)\n",
    "\n",
    "\n",
    "print(\"Titles:\", titles)\n",
    "print(\"Authors:\", authors)\n",
    "print(\"Years:\", years)"
   ]
  },
  {
   "cell_type": "markdown",
   "id": "3bb615a06135b91a",
   "metadata": {},
   "source": [
    "Нам необходимо собирать контактные данные клиентов.\n",
    "Напишите программу, которая проверяет, соответствует ли введенный адрес электронной почты клиента **правильному** формату."
   ]
  },
  {
   "cell_type": "markdown",
   "id": "ac585e1b9812306b",
   "metadata": {},
   "source": [
    "Правильный формат адреса электронной почты обычно определяется следующими правилами:\n",
    "\n",
    "1. **Имя пользователя (local part)**:\n",
    "   - Может содержать буквы, цифры, точки (`.`), дефисы (`-`), знаки подчеркивания (`_`).\n",
    "   - Не может начинаться или заканчиваться точкой (`.`).\n",
    "   - Не допускается последовательность точек (`..`).\n",
    "\n",
    "2. **Символ `@`**:\n",
    "   - Разделяет имя пользователя и домен.\n",
    "   - Должен присутствовать ровно один раз.\n",
    "\n",
    "3. **Доменная часть (domain)**:\n",
    "   - Состоит из букв, цифр, дефисов (`-`) и точек (`.`).\n",
    "   - Должен содержать хотя бы одну точку.\n",
    "   - Доменное имя не может начинаться или заканчиваться дефисом (`-`) или точкой (`.`).\n",
    "\n",
    "4. **Домен верхнего уровня (TLD)**:\n",
    "   - Обычно состоит из 2 или более букв (например, `.com`, `.org`, `.ru`).\n",
    "\n",
    "\n",
    "\n",
    "#### Примеры ввода и проверки:\n",
    "- **Допустимые адреса**:\n",
    "  - `example@gmail.com`\n",
    "  - `user.name@sub.domain.org`\n",
    "  - `first_last123@domain.co.uk`\n",
    "\n",
    "- **Недопустимые адреса**:\n",
    "  - `user@.com` (домен не может начинаться с точки)\n",
    "  - `@domain.com` (нет имени пользователя)\n",
    "  - `user@domain` (нет TLD)\n",
    "  - `user@@domain.com` (две `@`)"
   ]
  },
  {
   "cell_type": "code",
   "execution_count": null,
   "id": "20e834bfb2499f8c",
   "metadata": {
    "ExecuteTime": {
     "end_time": "2024-12-09T22:35:30.798046Z",
     "start_time": "2024-12-09T22:35:30.786449Z"
    }
   },
   "outputs": [
    {
     "name": "stdout",
     "output_type": "stream",
     "text": [
      "True\n"
     ]
    }
   ],
   "source": [
    "def check_email_format(email):\n",
    "    return re.match(r'^[^\\.][a-zA-Z0-9\\_\\-\\.]+[^\\.]@[^(\\.|\\-)][a-zA-Z0-9\\.\\-]+[^(\\.|\\-)]\\.[a-zA-Z]{2,}$', email) != None\n",
    "    pass\n",
    "\n",
    "\n",
    "email = \"owner@example.com\"\n",
    "result = check_email_format(email)\n",
    "print(result)  # True\n"
   ]
  },
  {
   "cell_type": "markdown",
   "id": "1cbf05c36d87598d",
   "metadata": {},
   "source": [
    "Иногда клиенты могут указывать свои пищевые ограничения.\n",
    "Напишите программу, которая проверяет, упоминаются ли в записи ограничения на определенные продукты, такие как \"глютен\", \"лактоза\" или \"орехи\"."
   ]
  },
  {
   "cell_type": "code",
   "execution_count": 77,
   "id": "4310d3bfe276a135",
   "metadata": {},
   "outputs": [
    {
     "name": "stdout",
     "output_type": "stream",
     "text": [
      "Dietary restrictions detected.\n"
     ]
    }
   ],
   "source": [
    "def check_restrictions(data):\n",
    "    return re.search(r'gluten|lactose|nuts|глютен|лактоза|орехи', data) != None\n",
    "    pass\n",
    "\n",
    "client_data = \"My diet excludes products containing lactose and gluten.\"\n",
    "if check_restrictions(client_data):\n",
    "    print(\"Dietary restrictions detected.\")\n",
    "else:\n",
    "    print(\"No dietary restrictions detected.\")"
   ]
  },
  {
   "cell_type": "markdown",
   "id": "e8561ff50da1f5f8",
   "metadata": {},
   "source": [
    "Предположим, у вас есть текст, который может содержать несколько телефонных номеров. Каждый номер телефона записан в формате:\n",
    "\n",
    "- `(XXX) XXX-XXXX`\n",
    "- `XXX-XXX-XXXX`\n",
    "- `XXX.XXX.XXXX`\n",
    "- `XXX XXX XXXX`\n",
    "\n",
    "Где `X` — цифра от 0 до 9.\n",
    "\n",
    "Напишите программу, которая будет искать все телефонные номера в тексте и выводить их.\n"
   ]
  },
  {
   "cell_type": "code",
   "execution_count": 78,
   "id": "2e021001b77dffe7",
   "metadata": {},
   "outputs": [
    {
     "name": "stdout",
     "output_type": "stream",
     "text": [
      "['(123) 456-7890', '987-654-3210', '555.555.5555', '111 222 3333']\n"
     ]
    }
   ],
   "source": [
    "def extract_phone_numbers(text):\n",
    "    return re.findall(r'\\(?\\d{3}\\)?[-.\\s]?\\d{3}[-.\\s]?\\d{4}', text)\n",
    "    pass\n",
    "\n",
    "text = \"Hi, here are some phone numbers: (123) 456-7890, 987-654-3210, 555.555.5555, 111 222 3333.\"\n",
    "print(extract_phone_numbers(text)) #['(123) 456-7890', '987-654-3210', '555.555.5555', '111 222 3333']"
   ]
  }
 ],
 "metadata": {
  "kernelspec": {
   "display_name": "Python 3",
   "language": "python",
   "name": "python3"
  },
  "language_info": {
   "codemirror_mode": {
    "name": "ipython",
    "version": 3
   },
   "file_extension": ".py",
   "mimetype": "text/x-python",
   "name": "python",
   "nbconvert_exporter": "python",
   "pygments_lexer": "ipython3",
   "version": "3.11.9"
  }
 },
 "nbformat": 4,
 "nbformat_minor": 5
}
